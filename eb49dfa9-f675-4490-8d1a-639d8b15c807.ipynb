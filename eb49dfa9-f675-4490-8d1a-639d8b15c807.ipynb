{
 "cells": [
  {
   "cell_type": "markdown",
   "metadata": {
    "toc": true
   },
   "source": [
    "<h1>Содержание<span class=\"tocSkip\"></span></h1>\n",
    "<div class=\"toc\"><ul class=\"toc-item\"><li><span><a href=\"#Подготовка-данных\" data-toc-modified-id=\"Подготовка-данных-1\"><span class=\"toc-item-num\">1&nbsp;&nbsp;</span>Подготовка данных</a></span></li><li><span><a href=\"#Исследование-задачи\" data-toc-modified-id=\"Исследование-задачи-2\"><span class=\"toc-item-num\">2&nbsp;&nbsp;</span>Исследование задачи</a></span></li><li><span><a href=\"#Борьба-с-дисбалансом\" data-toc-modified-id=\"Борьба-с-дисбалансом-3\"><span class=\"toc-item-num\">3&nbsp;&nbsp;</span>Борьба с дисбалансом</a></span></li><li><span><a href=\"#Тестирование-модели\" data-toc-modified-id=\"Тестирование-модели-4\"><span class=\"toc-item-num\">4&nbsp;&nbsp;</span>Тестирование модели</a></span></li><li><span><a href=\"#Чек-лист-готовности-проекта\" data-toc-modified-id=\"Чек-лист-готовности-проекта-5\"><span class=\"toc-item-num\">5&nbsp;&nbsp;</span>Чек-лист готовности проекта</a></span></li></ul></div>"
   ]
  },
  {
   "cell_type": "markdown",
   "metadata": {},
   "source": [
    "# Отток клиентов"
   ]
  },
  {
   "cell_type": "markdown",
   "metadata": {},
   "source": [
    "Из «Бета-Банка» стали уходить клиенты. Каждый месяц. Немного, но заметно. Банковские маркетологи посчитали: сохранять текущих клиентов дешевле, чем привлекать новых.\n",
    "\n",
    "Нужно спрогнозировать, уйдёт клиент из банка в ближайшее время или нет. Вам предоставлены исторические данные о поведении клиентов и расторжении договоров с банком. \n",
    "\n",
    "Постройте модель с предельно большим значением *F1*-меры. Чтобы сдать проект успешно, нужно довести метрику до 0.59. Проверьте *F1*-меру на тестовой выборке самостоятельно.\n",
    "\n",
    "Дополнительно измеряйте *AUC-ROC*, сравнивайте её значение с *F1*-мерой.\n",
    "\n",
    "Источник данных: [https://www.kaggle.com/barelydedicated/bank-customer-churn-modeling](https://www.kaggle.com/barelydedicated/bank-customer-churn-modeling)"
   ]
  },
  {
   "cell_type": "markdown",
   "metadata": {},
   "source": [
    "## Подготовка данных"
   ]
  },
  {
   "cell_type": "code",
   "execution_count": 14,
   "metadata": {},
   "outputs": [],
   "source": [
    "import pandas as pd\n",
    "import numpy as np\n",
    "import matplotlib.pyplot as plt\n",
    "from sklearn.model_selection import train_test_split\n",
    "from sklearn.metrics import f1_score, accuracy_score, confusion_matrix, recall_score, precision_score, roc_curve, roc_auc_score\n",
    "from sklearn.tree import DecisionTreeClassifier\n",
    "from sklearn.ensemble import RandomForestClassifier\n",
    "from sklearn.linear_model import LogisticRegression\n",
    "from sklearn.utils import shuffle"
   ]
  },
  {
   "cell_type": "code",
   "execution_count": 15,
   "metadata": {
    "scrolled": false
   },
   "outputs": [
    {
     "data": {
      "text/html": [
       "<div>\n",
       "<style scoped>\n",
       "    .dataframe tbody tr th:only-of-type {\n",
       "        vertical-align: middle;\n",
       "    }\n",
       "\n",
       "    .dataframe tbody tr th {\n",
       "        vertical-align: top;\n",
       "    }\n",
       "\n",
       "    .dataframe thead th {\n",
       "        text-align: right;\n",
       "    }\n",
       "</style>\n",
       "<table border=\"1\" class=\"dataframe\">\n",
       "  <thead>\n",
       "    <tr style=\"text-align: right;\">\n",
       "      <th></th>\n",
       "      <th>CustomerId</th>\n",
       "      <th>Surname</th>\n",
       "      <th>CreditScore</th>\n",
       "      <th>Geography</th>\n",
       "      <th>Gender</th>\n",
       "      <th>Age</th>\n",
       "      <th>Tenure</th>\n",
       "      <th>Balance</th>\n",
       "      <th>NumOfProducts</th>\n",
       "      <th>HasCrCard</th>\n",
       "      <th>IsActiveMember</th>\n",
       "      <th>EstimatedSalary</th>\n",
       "      <th>Exited</th>\n",
       "    </tr>\n",
       "    <tr>\n",
       "      <th>RowNumber</th>\n",
       "      <th></th>\n",
       "      <th></th>\n",
       "      <th></th>\n",
       "      <th></th>\n",
       "      <th></th>\n",
       "      <th></th>\n",
       "      <th></th>\n",
       "      <th></th>\n",
       "      <th></th>\n",
       "      <th></th>\n",
       "      <th></th>\n",
       "      <th></th>\n",
       "      <th></th>\n",
       "    </tr>\n",
       "  </thead>\n",
       "  <tbody>\n",
       "    <tr>\n",
       "      <th>1</th>\n",
       "      <td>15634602</td>\n",
       "      <td>Hargrave</td>\n",
       "      <td>619</td>\n",
       "      <td>France</td>\n",
       "      <td>Female</td>\n",
       "      <td>42</td>\n",
       "      <td>2.0</td>\n",
       "      <td>0.00</td>\n",
       "      <td>1</td>\n",
       "      <td>1</td>\n",
       "      <td>1</td>\n",
       "      <td>101348.88</td>\n",
       "      <td>1</td>\n",
       "    </tr>\n",
       "    <tr>\n",
       "      <th>2</th>\n",
       "      <td>15647311</td>\n",
       "      <td>Hill</td>\n",
       "      <td>608</td>\n",
       "      <td>Spain</td>\n",
       "      <td>Female</td>\n",
       "      <td>41</td>\n",
       "      <td>1.0</td>\n",
       "      <td>83807.86</td>\n",
       "      <td>1</td>\n",
       "      <td>0</td>\n",
       "      <td>1</td>\n",
       "      <td>112542.58</td>\n",
       "      <td>0</td>\n",
       "    </tr>\n",
       "    <tr>\n",
       "      <th>3</th>\n",
       "      <td>15619304</td>\n",
       "      <td>Onio</td>\n",
       "      <td>502</td>\n",
       "      <td>France</td>\n",
       "      <td>Female</td>\n",
       "      <td>42</td>\n",
       "      <td>8.0</td>\n",
       "      <td>159660.80</td>\n",
       "      <td>3</td>\n",
       "      <td>1</td>\n",
       "      <td>0</td>\n",
       "      <td>113931.57</td>\n",
       "      <td>1</td>\n",
       "    </tr>\n",
       "    <tr>\n",
       "      <th>4</th>\n",
       "      <td>15701354</td>\n",
       "      <td>Boni</td>\n",
       "      <td>699</td>\n",
       "      <td>France</td>\n",
       "      <td>Female</td>\n",
       "      <td>39</td>\n",
       "      <td>1.0</td>\n",
       "      <td>0.00</td>\n",
       "      <td>2</td>\n",
       "      <td>0</td>\n",
       "      <td>0</td>\n",
       "      <td>93826.63</td>\n",
       "      <td>0</td>\n",
       "    </tr>\n",
       "    <tr>\n",
       "      <th>5</th>\n",
       "      <td>15737888</td>\n",
       "      <td>Mitchell</td>\n",
       "      <td>850</td>\n",
       "      <td>Spain</td>\n",
       "      <td>Female</td>\n",
       "      <td>43</td>\n",
       "      <td>2.0</td>\n",
       "      <td>125510.82</td>\n",
       "      <td>1</td>\n",
       "      <td>1</td>\n",
       "      <td>1</td>\n",
       "      <td>79084.10</td>\n",
       "      <td>0</td>\n",
       "    </tr>\n",
       "  </tbody>\n",
       "</table>\n",
       "</div>"
      ],
      "text/plain": [
       "           CustomerId   Surname  CreditScore Geography  Gender  Age  Tenure  \\\n",
       "RowNumber                                                                     \n",
       "1            15634602  Hargrave          619    France  Female   42     2.0   \n",
       "2            15647311      Hill          608     Spain  Female   41     1.0   \n",
       "3            15619304      Onio          502    France  Female   42     8.0   \n",
       "4            15701354      Boni          699    France  Female   39     1.0   \n",
       "5            15737888  Mitchell          850     Spain  Female   43     2.0   \n",
       "\n",
       "             Balance  NumOfProducts  HasCrCard  IsActiveMember  \\\n",
       "RowNumber                                                        \n",
       "1               0.00              1          1               1   \n",
       "2           83807.86              1          0               1   \n",
       "3          159660.80              3          1               0   \n",
       "4               0.00              2          0               0   \n",
       "5          125510.82              1          1               1   \n",
       "\n",
       "           EstimatedSalary  Exited  \n",
       "RowNumber                           \n",
       "1                101348.88       1  \n",
       "2                112542.58       0  \n",
       "3                113931.57       1  \n",
       "4                 93826.63       0  \n",
       "5                 79084.10       0  "
      ]
     },
     "execution_count": 15,
     "metadata": {},
     "output_type": "execute_result"
    }
   ],
   "source": [
    "df = pd.read_csv('/datasets/Churn.csv', index_col=0)\n",
    "df.head()"
   ]
  },
  {
   "cell_type": "markdown",
   "metadata": {},
   "source": [
    "Проверим, можно ли использовать CustomerId как уникальный индекс, чтобы избавиться от нескольких колонок, решающих одну и ту же задачу."
   ]
  },
  {
   "cell_type": "code",
   "execution_count": 16,
   "metadata": {},
   "outputs": [
    {
     "data": {
      "text/plain": [
       "0"
      ]
     },
     "execution_count": 16,
     "metadata": {},
     "output_type": "execute_result"
    }
   ],
   "source": [
    "df['CustomerId'].duplicated().sum()"
   ]
  },
  {
   "cell_type": "markdown",
   "metadata": {},
   "source": [
    "Все значения уникальны, поэтому сделаем `CustomerId` индексом."
   ]
  },
  {
   "cell_type": "code",
   "execution_count": 17,
   "metadata": {
    "scrolled": true
   },
   "outputs": [
    {
     "data": {
      "text/html": [
       "<div>\n",
       "<style scoped>\n",
       "    .dataframe tbody tr th:only-of-type {\n",
       "        vertical-align: middle;\n",
       "    }\n",
       "\n",
       "    .dataframe tbody tr th {\n",
       "        vertical-align: top;\n",
       "    }\n",
       "\n",
       "    .dataframe thead th {\n",
       "        text-align: right;\n",
       "    }\n",
       "</style>\n",
       "<table border=\"1\" class=\"dataframe\">\n",
       "  <thead>\n",
       "    <tr style=\"text-align: right;\">\n",
       "      <th></th>\n",
       "      <th>Surname</th>\n",
       "      <th>CreditScore</th>\n",
       "      <th>Geography</th>\n",
       "      <th>Gender</th>\n",
       "      <th>Age</th>\n",
       "      <th>Tenure</th>\n",
       "      <th>Balance</th>\n",
       "      <th>NumOfProducts</th>\n",
       "      <th>HasCrCard</th>\n",
       "      <th>IsActiveMember</th>\n",
       "      <th>EstimatedSalary</th>\n",
       "      <th>Exited</th>\n",
       "    </tr>\n",
       "    <tr>\n",
       "      <th>CustomerId</th>\n",
       "      <th></th>\n",
       "      <th></th>\n",
       "      <th></th>\n",
       "      <th></th>\n",
       "      <th></th>\n",
       "      <th></th>\n",
       "      <th></th>\n",
       "      <th></th>\n",
       "      <th></th>\n",
       "      <th></th>\n",
       "      <th></th>\n",
       "      <th></th>\n",
       "    </tr>\n",
       "  </thead>\n",
       "  <tbody>\n",
       "    <tr>\n",
       "      <th>15634602</th>\n",
       "      <td>Hargrave</td>\n",
       "      <td>619</td>\n",
       "      <td>France</td>\n",
       "      <td>Female</td>\n",
       "      <td>42</td>\n",
       "      <td>2.0</td>\n",
       "      <td>0.00</td>\n",
       "      <td>1</td>\n",
       "      <td>1</td>\n",
       "      <td>1</td>\n",
       "      <td>101348.88</td>\n",
       "      <td>1</td>\n",
       "    </tr>\n",
       "    <tr>\n",
       "      <th>15647311</th>\n",
       "      <td>Hill</td>\n",
       "      <td>608</td>\n",
       "      <td>Spain</td>\n",
       "      <td>Female</td>\n",
       "      <td>41</td>\n",
       "      <td>1.0</td>\n",
       "      <td>83807.86</td>\n",
       "      <td>1</td>\n",
       "      <td>0</td>\n",
       "      <td>1</td>\n",
       "      <td>112542.58</td>\n",
       "      <td>0</td>\n",
       "    </tr>\n",
       "    <tr>\n",
       "      <th>15619304</th>\n",
       "      <td>Onio</td>\n",
       "      <td>502</td>\n",
       "      <td>France</td>\n",
       "      <td>Female</td>\n",
       "      <td>42</td>\n",
       "      <td>8.0</td>\n",
       "      <td>159660.80</td>\n",
       "      <td>3</td>\n",
       "      <td>1</td>\n",
       "      <td>0</td>\n",
       "      <td>113931.57</td>\n",
       "      <td>1</td>\n",
       "    </tr>\n",
       "    <tr>\n",
       "      <th>15701354</th>\n",
       "      <td>Boni</td>\n",
       "      <td>699</td>\n",
       "      <td>France</td>\n",
       "      <td>Female</td>\n",
       "      <td>39</td>\n",
       "      <td>1.0</td>\n",
       "      <td>0.00</td>\n",
       "      <td>2</td>\n",
       "      <td>0</td>\n",
       "      <td>0</td>\n",
       "      <td>93826.63</td>\n",
       "      <td>0</td>\n",
       "    </tr>\n",
       "    <tr>\n",
       "      <th>15737888</th>\n",
       "      <td>Mitchell</td>\n",
       "      <td>850</td>\n",
       "      <td>Spain</td>\n",
       "      <td>Female</td>\n",
       "      <td>43</td>\n",
       "      <td>2.0</td>\n",
       "      <td>125510.82</td>\n",
       "      <td>1</td>\n",
       "      <td>1</td>\n",
       "      <td>1</td>\n",
       "      <td>79084.10</td>\n",
       "      <td>0</td>\n",
       "    </tr>\n",
       "  </tbody>\n",
       "</table>\n",
       "</div>"
      ],
      "text/plain": [
       "             Surname  CreditScore Geography  Gender  Age  Tenure    Balance  \\\n",
       "CustomerId                                                                    \n",
       "15634602    Hargrave          619    France  Female   42     2.0       0.00   \n",
       "15647311        Hill          608     Spain  Female   41     1.0   83807.86   \n",
       "15619304        Onio          502    France  Female   42     8.0  159660.80   \n",
       "15701354        Boni          699    France  Female   39     1.0       0.00   \n",
       "15737888    Mitchell          850     Spain  Female   43     2.0  125510.82   \n",
       "\n",
       "            NumOfProducts  HasCrCard  IsActiveMember  EstimatedSalary  Exited  \n",
       "CustomerId                                                                     \n",
       "15634602                1          1               1        101348.88       1  \n",
       "15647311                1          0               1        112542.58       0  \n",
       "15619304                3          1               0        113931.57       1  \n",
       "15701354                2          0               0         93826.63       0  \n",
       "15737888                1          1               1         79084.10       0  "
      ]
     },
     "execution_count": 17,
     "metadata": {},
     "output_type": "execute_result"
    }
   ],
   "source": [
    "df.set_index('CustomerId', inplace=True)\n",
    "df.head()"
   ]
  },
  {
   "cell_type": "markdown",
   "metadata": {},
   "source": [
    "Изучаем пропущенные значения. "
   ]
  },
  {
   "cell_type": "code",
   "execution_count": 18,
   "metadata": {
    "scrolled": true
   },
   "outputs": [
    {
     "name": "stdout",
     "output_type": "stream",
     "text": [
      "<class 'pandas.core.frame.DataFrame'>\n",
      "Int64Index: 10000 entries, 15634602 to 15628319\n",
      "Data columns (total 12 columns):\n",
      " #   Column           Non-Null Count  Dtype  \n",
      "---  ------           --------------  -----  \n",
      " 0   Surname          10000 non-null  object \n",
      " 1   CreditScore      10000 non-null  int64  \n",
      " 2   Geography        10000 non-null  object \n",
      " 3   Gender           10000 non-null  object \n",
      " 4   Age              10000 non-null  int64  \n",
      " 5   Tenure           9091 non-null   float64\n",
      " 6   Balance          10000 non-null  float64\n",
      " 7   NumOfProducts    10000 non-null  int64  \n",
      " 8   HasCrCard        10000 non-null  int64  \n",
      " 9   IsActiveMember   10000 non-null  int64  \n",
      " 10  EstimatedSalary  10000 non-null  float64\n",
      " 11  Exited           10000 non-null  int64  \n",
      "dtypes: float64(3), int64(6), object(3)\n",
      "memory usage: 1015.6+ KB\n"
     ]
    }
   ],
   "source": [
    "df.info()"
   ]
  },
  {
   "cell_type": "markdown",
   "metadata": {},
   "source": [
    "Видно, что `Tenure` имеет 909 пустых значений. Посмотрим, что там за клиенты:"
   ]
  },
  {
   "cell_type": "code",
   "execution_count": 19,
   "metadata": {
    "scrolled": false
   },
   "outputs": [
    {
     "data": {
      "text/html": [
       "<div>\n",
       "<style scoped>\n",
       "    .dataframe tbody tr th:only-of-type {\n",
       "        vertical-align: middle;\n",
       "    }\n",
       "\n",
       "    .dataframe tbody tr th {\n",
       "        vertical-align: top;\n",
       "    }\n",
       "\n",
       "    .dataframe thead th {\n",
       "        text-align: right;\n",
       "    }\n",
       "</style>\n",
       "<table border=\"1\" class=\"dataframe\">\n",
       "  <thead>\n",
       "    <tr style=\"text-align: right;\">\n",
       "      <th></th>\n",
       "      <th>Surname</th>\n",
       "      <th>CreditScore</th>\n",
       "      <th>Geography</th>\n",
       "      <th>Gender</th>\n",
       "      <th>Age</th>\n",
       "      <th>Tenure</th>\n",
       "      <th>Balance</th>\n",
       "      <th>NumOfProducts</th>\n",
       "      <th>HasCrCard</th>\n",
       "      <th>IsActiveMember</th>\n",
       "      <th>EstimatedSalary</th>\n",
       "      <th>Exited</th>\n",
       "    </tr>\n",
       "    <tr>\n",
       "      <th>CustomerId</th>\n",
       "      <th></th>\n",
       "      <th></th>\n",
       "      <th></th>\n",
       "      <th></th>\n",
       "      <th></th>\n",
       "      <th></th>\n",
       "      <th></th>\n",
       "      <th></th>\n",
       "      <th></th>\n",
       "      <th></th>\n",
       "      <th></th>\n",
       "      <th></th>\n",
       "    </tr>\n",
       "  </thead>\n",
       "  <tbody>\n",
       "    <tr>\n",
       "      <th>15589475</th>\n",
       "      <td>Azikiwe</td>\n",
       "      <td>591</td>\n",
       "      <td>Spain</td>\n",
       "      <td>Female</td>\n",
       "      <td>39</td>\n",
       "      <td>NaN</td>\n",
       "      <td>0.00</td>\n",
       "      <td>3</td>\n",
       "      <td>1</td>\n",
       "      <td>0</td>\n",
       "      <td>140469.38</td>\n",
       "      <td>1</td>\n",
       "    </tr>\n",
       "    <tr>\n",
       "      <th>15766205</th>\n",
       "      <td>Yin</td>\n",
       "      <td>550</td>\n",
       "      <td>Germany</td>\n",
       "      <td>Male</td>\n",
       "      <td>38</td>\n",
       "      <td>NaN</td>\n",
       "      <td>103391.38</td>\n",
       "      <td>1</td>\n",
       "      <td>0</td>\n",
       "      <td>1</td>\n",
       "      <td>90878.13</td>\n",
       "      <td>0</td>\n",
       "    </tr>\n",
       "    <tr>\n",
       "      <th>15768193</th>\n",
       "      <td>Trevisani</td>\n",
       "      <td>585</td>\n",
       "      <td>Germany</td>\n",
       "      <td>Male</td>\n",
       "      <td>36</td>\n",
       "      <td>NaN</td>\n",
       "      <td>146050.97</td>\n",
       "      <td>2</td>\n",
       "      <td>0</td>\n",
       "      <td>0</td>\n",
       "      <td>86424.57</td>\n",
       "      <td>0</td>\n",
       "    </tr>\n",
       "    <tr>\n",
       "      <th>15702298</th>\n",
       "      <td>Parkhill</td>\n",
       "      <td>655</td>\n",
       "      <td>Germany</td>\n",
       "      <td>Male</td>\n",
       "      <td>41</td>\n",
       "      <td>NaN</td>\n",
       "      <td>125561.97</td>\n",
       "      <td>1</td>\n",
       "      <td>0</td>\n",
       "      <td>0</td>\n",
       "      <td>164040.94</td>\n",
       "      <td>1</td>\n",
       "    </tr>\n",
       "    <tr>\n",
       "      <th>15651280</th>\n",
       "      <td>Hunter</td>\n",
       "      <td>742</td>\n",
       "      <td>Germany</td>\n",
       "      <td>Male</td>\n",
       "      <td>35</td>\n",
       "      <td>NaN</td>\n",
       "      <td>136857.00</td>\n",
       "      <td>1</td>\n",
       "      <td>0</td>\n",
       "      <td>0</td>\n",
       "      <td>84509.57</td>\n",
       "      <td>0</td>\n",
       "    </tr>\n",
       "  </tbody>\n",
       "</table>\n",
       "</div>"
      ],
      "text/plain": [
       "              Surname  CreditScore Geography  Gender  Age  Tenure    Balance  \\\n",
       "CustomerId                                                                     \n",
       "15589475      Azikiwe          591     Spain  Female   39     NaN       0.00   \n",
       "15766205          Yin          550   Germany    Male   38     NaN  103391.38   \n",
       "15768193    Trevisani          585   Germany    Male   36     NaN  146050.97   \n",
       "15702298     Parkhill          655   Germany    Male   41     NaN  125561.97   \n",
       "15651280       Hunter          742   Germany    Male   35     NaN  136857.00   \n",
       "\n",
       "            NumOfProducts  HasCrCard  IsActiveMember  EstimatedSalary  Exited  \n",
       "CustomerId                                                                     \n",
       "15589475                3          1               0        140469.38       1  \n",
       "15766205                1          0               1         90878.13       0  \n",
       "15768193                2          0               0         86424.57       0  \n",
       "15702298                1          0               0        164040.94       1  \n",
       "15651280                1          0               0         84509.57       0  "
      ]
     },
     "execution_count": 19,
     "metadata": {},
     "output_type": "execute_result"
    }
   ],
   "source": [
    "df[ df['Tenure'].isna() ].head()"
   ]
  },
  {
   "cell_type": "markdown",
   "metadata": {},
   "source": [
    "Вполне подходящие клиенты. Можно попробовать заменить пустые значения медианой:"
   ]
  },
  {
   "cell_type": "code",
   "execution_count": 21,
   "metadata": {},
   "outputs": [],
   "source": [
    "df['Tenure'] = df['Tenure'].fillna( df['Tenure'].median() )"
   ]
  },
  {
   "cell_type": "markdown",
   "metadata": {},
   "source": [
    "Фамилия клиента скорее всего не влияет на churn-rate, поэтому удалим эту колонку:"
   ]
  },
  {
   "cell_type": "code",
   "execution_count": 22,
   "metadata": {},
   "outputs": [],
   "source": [
    "df.drop(['Surname'], inplace=True, axis=1)"
   ]
  },
  {
   "cell_type": "markdown",
   "metadata": {},
   "source": [
    "Проверим, какие страны есть в колонке `Geography`:"
   ]
  },
  {
   "cell_type": "code",
   "execution_count": 23,
   "metadata": {},
   "outputs": [
    {
     "data": {
      "text/plain": [
       "France     5014\n",
       "Germany    2509\n",
       "Spain      2477\n",
       "Name: Geography, dtype: int64"
      ]
     },
     "execution_count": 23,
     "metadata": {},
     "output_type": "execute_result"
    }
   ],
   "source": [
    "df['Geography'].value_counts()"
   ]
  },
  {
   "cell_type": "markdown",
   "metadata": {},
   "source": [
    "Всего 3 страны и 2 пола. Можно воспользоваться методом `get_dummies` для разбиения категориальных колонок на отдельные колонки."
   ]
  },
  {
   "cell_type": "code",
   "execution_count": 24,
   "metadata": {
    "scrolled": true
   },
   "outputs": [
    {
     "data": {
      "text/html": [
       "<div>\n",
       "<style scoped>\n",
       "    .dataframe tbody tr th:only-of-type {\n",
       "        vertical-align: middle;\n",
       "    }\n",
       "\n",
       "    .dataframe tbody tr th {\n",
       "        vertical-align: top;\n",
       "    }\n",
       "\n",
       "    .dataframe thead th {\n",
       "        text-align: right;\n",
       "    }\n",
       "</style>\n",
       "<table border=\"1\" class=\"dataframe\">\n",
       "  <thead>\n",
       "    <tr style=\"text-align: right;\">\n",
       "      <th></th>\n",
       "      <th>CreditScore</th>\n",
       "      <th>Age</th>\n",
       "      <th>Tenure</th>\n",
       "      <th>Balance</th>\n",
       "      <th>NumOfProducts</th>\n",
       "      <th>HasCrCard</th>\n",
       "      <th>IsActiveMember</th>\n",
       "      <th>EstimatedSalary</th>\n",
       "      <th>Exited</th>\n",
       "      <th>Geography_Germany</th>\n",
       "      <th>Geography_Spain</th>\n",
       "      <th>Gender_Male</th>\n",
       "    </tr>\n",
       "    <tr>\n",
       "      <th>CustomerId</th>\n",
       "      <th></th>\n",
       "      <th></th>\n",
       "      <th></th>\n",
       "      <th></th>\n",
       "      <th></th>\n",
       "      <th></th>\n",
       "      <th></th>\n",
       "      <th></th>\n",
       "      <th></th>\n",
       "      <th></th>\n",
       "      <th></th>\n",
       "      <th></th>\n",
       "    </tr>\n",
       "  </thead>\n",
       "  <tbody>\n",
       "    <tr>\n",
       "      <th>15634602</th>\n",
       "      <td>619</td>\n",
       "      <td>42</td>\n",
       "      <td>2.0</td>\n",
       "      <td>0.00</td>\n",
       "      <td>1</td>\n",
       "      <td>1</td>\n",
       "      <td>1</td>\n",
       "      <td>101348.88</td>\n",
       "      <td>1</td>\n",
       "      <td>0</td>\n",
       "      <td>0</td>\n",
       "      <td>0</td>\n",
       "    </tr>\n",
       "    <tr>\n",
       "      <th>15647311</th>\n",
       "      <td>608</td>\n",
       "      <td>41</td>\n",
       "      <td>1.0</td>\n",
       "      <td>83807.86</td>\n",
       "      <td>1</td>\n",
       "      <td>0</td>\n",
       "      <td>1</td>\n",
       "      <td>112542.58</td>\n",
       "      <td>0</td>\n",
       "      <td>0</td>\n",
       "      <td>1</td>\n",
       "      <td>0</td>\n",
       "    </tr>\n",
       "    <tr>\n",
       "      <th>15619304</th>\n",
       "      <td>502</td>\n",
       "      <td>42</td>\n",
       "      <td>8.0</td>\n",
       "      <td>159660.80</td>\n",
       "      <td>3</td>\n",
       "      <td>1</td>\n",
       "      <td>0</td>\n",
       "      <td>113931.57</td>\n",
       "      <td>1</td>\n",
       "      <td>0</td>\n",
       "      <td>0</td>\n",
       "      <td>0</td>\n",
       "    </tr>\n",
       "    <tr>\n",
       "      <th>15701354</th>\n",
       "      <td>699</td>\n",
       "      <td>39</td>\n",
       "      <td>1.0</td>\n",
       "      <td>0.00</td>\n",
       "      <td>2</td>\n",
       "      <td>0</td>\n",
       "      <td>0</td>\n",
       "      <td>93826.63</td>\n",
       "      <td>0</td>\n",
       "      <td>0</td>\n",
       "      <td>0</td>\n",
       "      <td>0</td>\n",
       "    </tr>\n",
       "    <tr>\n",
       "      <th>15737888</th>\n",
       "      <td>850</td>\n",
       "      <td>43</td>\n",
       "      <td>2.0</td>\n",
       "      <td>125510.82</td>\n",
       "      <td>1</td>\n",
       "      <td>1</td>\n",
       "      <td>1</td>\n",
       "      <td>79084.10</td>\n",
       "      <td>0</td>\n",
       "      <td>0</td>\n",
       "      <td>1</td>\n",
       "      <td>0</td>\n",
       "    </tr>\n",
       "  </tbody>\n",
       "</table>\n",
       "</div>"
      ],
      "text/plain": [
       "            CreditScore  Age  Tenure    Balance  NumOfProducts  HasCrCard  \\\n",
       "CustomerId                                                                  \n",
       "15634602            619   42     2.0       0.00              1          1   \n",
       "15647311            608   41     1.0   83807.86              1          0   \n",
       "15619304            502   42     8.0  159660.80              3          1   \n",
       "15701354            699   39     1.0       0.00              2          0   \n",
       "15737888            850   43     2.0  125510.82              1          1   \n",
       "\n",
       "            IsActiveMember  EstimatedSalary  Exited  Geography_Germany  \\\n",
       "CustomerId                                                               \n",
       "15634602                 1        101348.88       1                  0   \n",
       "15647311                 1        112542.58       0                  0   \n",
       "15619304                 0        113931.57       1                  0   \n",
       "15701354                 0         93826.63       0                  0   \n",
       "15737888                 1         79084.10       0                  0   \n",
       "\n",
       "            Geography_Spain  Gender_Male  \n",
       "CustomerId                                \n",
       "15634602                  0            0  \n",
       "15647311                  1            0  \n",
       "15619304                  0            0  \n",
       "15701354                  0            0  \n",
       "15737888                  1            0  "
      ]
     },
     "execution_count": 24,
     "metadata": {},
     "output_type": "execute_result"
    }
   ],
   "source": [
    "df_converted = pd.get_dummies(df, drop_first=True)\n",
    "df_converted.head()"
   ]
  },
  {
   "cell_type": "markdown",
   "metadata": {},
   "source": [
    "Готовим обучающую, валидационную и тестовую выборки в соотношении 80/10/10%:"
   ]
  },
  {
   "cell_type": "code",
   "execution_count": 25,
   "metadata": {},
   "outputs": [],
   "source": [
    "target = df_converted['Exited']\n",
    "features = df_converted.drop('Exited', axis=1)\n",
    "\n",
    "features_train, features_test_valid, target_train, target_test_valid = train_test_split(features, target, test_size=0.2, random_state=12345)\n",
    "features_test, features_valid, target_test, target_valid = train_test_split(features_test_valid, target_test_valid, test_size=0.5, random_state=12345)\n"
   ]
  },
  {
   "cell_type": "markdown",
   "metadata": {},
   "source": [
    "## Исследование задачи"
   ]
  },
  {
   "cell_type": "markdown",
   "metadata": {},
   "source": [
    "Проверим основные метрики с помощью алгоритма `RandomForestClassifier`: "
   ]
  },
  {
   "cell_type": "code",
   "execution_count": 26,
   "metadata": {},
   "outputs": [
    {
     "name": "stdout",
     "output_type": "stream",
     "text": [
      "Accuracy: 0.845\n",
      "F1-score: 0.5110410094637224\n",
      "Recall score: 0.400990099009901\n",
      "Precision: 0.7043478260869566\n"
     ]
    }
   ],
   "source": [
    "model = RandomForestClassifier(random_state=12345, n_estimators=60, max_depth=16)\n",
    "model.fit(features_train, target_train)\n",
    "predicted_valid = model.predict(features_valid)\n",
    "print('Accuracy:', accuracy_score(target_valid, predicted_valid))\n",
    "print('F1-score:', f1_score(target_valid, predicted_valid))\n",
    "print('Recall score:', recall_score(target_valid, predicted_valid))\n",
    "print('Precision:', precision_score(target_valid, predicted_valid))"
   ]
  },
  {
   "cell_type": "markdown",
   "metadata": {},
   "source": [
    "Проверим адекватность модели на нулевых ответах:"
   ]
  },
  {
   "cell_type": "code",
   "execution_count": 27,
   "metadata": {
    "scrolled": true
   },
   "outputs": [
    {
     "name": "stdout",
     "output_type": "stream",
     "text": [
      "Accuracy with 0: 0.798\n"
     ]
    }
   ],
   "source": [
    "print('Accuracy with 0:', accuracy_score(target_valid, pd.Series(0, index=range(target_valid.shape[0]))))"
   ]
  },
  {
   "cell_type": "markdown",
   "metadata": {},
   "source": [
    "И заодно посмотрим на матрицу ошибок:"
   ]
  },
  {
   "cell_type": "code",
   "execution_count": 30,
   "metadata": {
    "scrolled": true
   },
   "outputs": [
    {
     "name": "stdout",
     "output_type": "stream",
     "text": [
      "[[764  34]\n",
      " [121  81]]\n"
     ]
    }
   ],
   "source": [
    "print(confusion_matrix(target_valid, predicted_valid))"
   ]
  },
  {
   "cell_type": "markdown",
   "metadata": {},
   "source": [
    "Посчитаем также ROC-AUC"
   ]
  },
  {
   "cell_type": "code",
   "execution_count": 31,
   "metadata": {},
   "outputs": [
    {
     "name": "stdout",
     "output_type": "stream",
     "text": [
      "AUC-ROC: 0.8675711556118018\n"
     ]
    }
   ],
   "source": [
    "probabilities_valid = model.predict_proba(features_valid)\n",
    "probabilities_one_valid = probabilities_valid[:, 1]\n",
    "predicted_valid = probabilities_one_valid > 0.4\n",
    "print(\"AUC-ROC:\", roc_auc_score(target_valid, probabilities_one_valid))"
   ]
  },
  {
   "cell_type": "markdown",
   "metadata": {},
   "source": [
    "Модель выглядит адекватной. Предсказания по всем нулям менее аккуратны, чем по всем классам. Но при этом модель довольно часто ошибается. И F1 не дотягивает до 0.59. Далее изучим, насколько модель несбалансирована."
   ]
  },
  {
   "cell_type": "markdown",
   "metadata": {},
   "source": [
    "## Борьба с дисбалансом"
   ]
  },
  {
   "cell_type": "markdown",
   "metadata": {},
   "source": [
    "Оценим, сколько клиентов в каждом классе:"
   ]
  },
  {
   "cell_type": "code",
   "execution_count": 32,
   "metadata": {
    "scrolled": true
   },
   "outputs": [
    {
     "data": {
      "text/plain": [
       "0    7963\n",
       "1    2037\n",
       "Name: Exited, dtype: int64"
      ]
     },
     "execution_count": 32,
     "metadata": {},
     "output_type": "execute_result"
    }
   ],
   "source": [
    "df['Exited'].value_counts()"
   ]
  },
  {
   "cell_type": "markdown",
   "metadata": {},
   "source": [
    "Дисбаланс заметен, но не 9:1, хотя и не 1:1. Попробуем его уменьшить и изучить результат."
   ]
  },
  {
   "cell_type": "markdown",
   "metadata": {},
   "source": [
    "Для начала попробуем логистическую регрессию с настройкой баланса:"
   ]
  },
  {
   "cell_type": "code",
   "execution_count": 33,
   "metadata": {},
   "outputs": [
    {
     "name": "stdout",
     "output_type": "stream",
     "text": [
      "Accuracy: 0.696\n",
      "F1-score: 0.48474576271186437\n",
      "Recall score: 0.7079207920792079\n",
      "Precision: 0.36855670103092786\n"
     ]
    }
   ],
   "source": [
    "model = LogisticRegression(random_state=12345, solver='liblinear', class_weight='balanced')\n",
    "model.fit(features_train, target_train)\n",
    "predicted_valid = model.predict(features_valid)\n",
    "print('Accuracy:', accuracy_score(target_valid, predicted_valid))\n",
    "print('F1-score:', f1_score(target_valid, predicted_valid))\n",
    "print('Recall score:', recall_score(target_valid, predicted_valid))\n",
    "print('Precision:', precision_score(target_valid, predicted_valid))"
   ]
  },
  {
   "cell_type": "markdown",
   "metadata": {},
   "source": [
    "F1 мера снизилась. Алгоритм в такой реализации нам не подходит. Продолжим тестировать на `RandomForestClassifier`."
   ]
  },
  {
   "cell_type": "markdown",
   "metadata": {},
   "source": [
    "Увеличим кол-во положительных таргетов в 4 раза (чтобы сравнять с кол-во отрицательных):"
   ]
  },
  {
   "cell_type": "code",
   "execution_count": 38,
   "metadata": {},
   "outputs": [
    {
     "name": "stdout",
     "output_type": "stream",
     "text": [
      "Accuracy: 0.848\n",
      "F1-score: 0.5846994535519127\n",
      "Recall score: 0.5297029702970297\n",
      "Precision: 0.6524390243902439\n"
     ]
    }
   ],
   "source": [
    "def upsample(features, target, repeat):\n",
    "    features_zeros = features[target == 0]\n",
    "    features_ones = features[target == 1]\n",
    "    target_zeros = target[target == 0]\n",
    "    target_ones = target[target == 1]\n",
    "\n",
    "    features_upsampled = pd.concat([features_zeros] + [features_ones] * repeat)\n",
    "    target_upsampled = pd.concat([target_zeros] + [target_ones] * repeat)\n",
    "    \n",
    "    features_upsampled, target_upsampled = shuffle(\n",
    "        features_upsampled, target_upsampled, random_state=12345)\n",
    "    \n",
    "    return features_upsampled, target_upsampled\n",
    "\n",
    "features_upsampled, target_upsampled = upsample(features_train, target_train, 4)\n",
    "model = RandomForestClassifier(random_state=12345, n_estimators=60, max_depth=16)\n",
    "model.fit(features_upsampled, target_upsampled)\n",
    "predicted_valid = model.predict(features_valid)\n",
    "print('Accuracy:', accuracy_score(target_valid, predicted_valid))\n",
    "print('F1-score:', f1_score(target_valid, predicted_valid))\n",
    "print('Recall score:', recall_score(target_valid, predicted_valid))\n",
    "print('Precision:', precision_score(target_valid, predicted_valid))"
   ]
  },
  {
   "cell_type": "markdown",
   "metadata": {},
   "source": [
    "F1 еще меньше, чем 0.59, но близко. Но попробуем что-нибудь еще. Уменьшать выборки не будем. Есть еще варианты работы с порогом классификации. В нашей бизнес-задаче лучше растить метрику `recall`, чтобы предотвратить отток клиентов. Пробуем повлиять на метрику `Recall`."
   ]
  },
  {
   "cell_type": "code",
   "execution_count": 43,
   "metadata": {
    "scrolled": true
   },
   "outputs": [
    {
     "name": "stdout",
     "output_type": "stream",
     "text": [
      "Порог = 0.00 | Точность = 0.203, Полнота = 1.000, F1: 0.338\n",
      "Порог = 0.10 | Точность = 0.302, Полнота = 0.965, F1: 0.460\n",
      "Порог = 0.20 | Точность = 0.390, Полнота = 0.871, F1: 0.539\n",
      "Порог = 0.30 | Точность = 0.481, Полнота = 0.757, F1: 0.588\n",
      "Порог = 0.40 | Точность = 0.551, Полнота = 0.639, F1: 0.592\n",
      "Порог = 0.50 | Точность = 0.652, Полнота = 0.530, F1: 0.585\n",
      "Порог = 0.60 | Точность = 0.701, Полнота = 0.441, F1: 0.541\n",
      "Порог = 0.70 | Точность = 0.753, Полнота = 0.347, F1: 0.475\n",
      "Порог = 0.80 | Точность = 0.815, Полнота = 0.262, F1: 0.397\n"
     ]
    }
   ],
   "source": [
    "model = RandomForestClassifier(random_state=12345, n_estimators=60, max_depth=16)\n",
    "model.fit(features_upsampled, target_upsampled)\n",
    "probabilities_valid = model.predict_proba(features_valid)\n",
    "probabilities_one_valid = probabilities_valid[:, 1]\n",
    "\n",
    "for threshold in np.arange(0, 0.9, 0.1):\n",
    "    predicted_valid = probabilities_one_valid > threshold\n",
    "    precision = precision_score(target_valid, predicted_valid)\n",
    "    recall = recall_score(target_valid, predicted_valid)\n",
    "    f1 = f1_score(target_valid, predicted_valid)\n",
    "\n",
    "    print(\"Порог = {:.2f} | Точность = {:.3f}, Полнота = {:.3f}, F1: {:.3f}\".format(\n",
    "        threshold, precision, recall, f1))"
   ]
  },
  {
   "cell_type": "markdown",
   "metadata": {},
   "source": [
    "`F1` и `recall` получают наилучший результат при пороге `0.4`. "
   ]
  },
  {
   "cell_type": "markdown",
   "metadata": {},
   "source": [
    "Посчитаем также ROC-AUC для данной модели:"
   ]
  },
  {
   "cell_type": "code",
   "execution_count": 44,
   "metadata": {},
   "outputs": [
    {
     "name": "stdout",
     "output_type": "stream",
     "text": [
      "AUC-ROC: 0.861333407776868\n"
     ]
    }
   ],
   "source": [
    "probabilities_valid = model.predict_proba(features_valid)\n",
    "probabilities_one_valid = probabilities_valid[:, 1]\n",
    "predicted_valid = probabilities_one_valid > 0.4\n",
    "print(\"AUC-ROC:\", roc_auc_score(target_valid, probabilities_one_valid))"
   ]
  },
  {
   "cell_type": "markdown",
   "metadata": {},
   "source": [
    "## Тестирование модели"
   ]
  },
  {
   "cell_type": "markdown",
   "metadata": {},
   "source": [
    "Протестируем модель на валидационных данных с порогом 0.4. Тестировать будем все метрики, а также адекватность."
   ]
  },
  {
   "cell_type": "code",
   "execution_count": 45,
   "metadata": {
    "scrolled": false
   },
   "outputs": [
    {
     "name": "stdout",
     "output_type": "stream",
     "text": [
      "Accuracy: 0.823\n",
      "F1-score: 0.6304801670146138\n",
      "Recall score: 0.6711111111111111\n",
      "Precision: 0.594488188976378\n",
      "Accuracy with 0: 0.775\n",
      "F1-score with 0: 0.0\n",
      "Recall with 0: 0.0\n",
      "Precision with 0: 0.0\n"
     ]
    },
    {
     "name": "stderr",
     "output_type": "stream",
     "text": [
      "/opt/conda/lib/python3.9/site-packages/sklearn/metrics/_classification.py:1245: UndefinedMetricWarning: Precision is ill-defined and being set to 0.0 due to no predicted samples. Use `zero_division` parameter to control this behavior.\n",
      "  _warn_prf(average, modifier, msg_start, len(result))\n"
     ]
    }
   ],
   "source": [
    "model = RandomForestClassifier(random_state=12345, n_estimators=60, max_depth=16)\n",
    "model.fit(features_upsampled, target_upsampled)\n",
    "probabilities_test = model.predict_proba(features_test)\n",
    "probabilities_one_test = probabilities_test[:, 1]\n",
    "predicted_test = probabilities_one_test > 0.4\n",
    "    \n",
    "print('Accuracy:', accuracy_score(target_test, predicted_test))\n",
    "print('F1-score:', f1_score(target_test, predicted_test))\n",
    "print('Recall score:', recall_score(target_test, predicted_test))\n",
    "print('Precision:', precision_score(target_test, predicted_test))\n",
    "\n",
    "print('Accuracy with 0:', accuracy_score(target_test, pd.Series(0, index=range(target_test.shape[0]))))\n",
    "print('F1-score with 0:', f1_score(target_test, pd.Series(0, index=range(target_test.shape[0]))))\n",
    "print('Recall with 0:', recall_score(target_test, pd.Series(0, index=range(target_test.shape[0]))))\n",
    "print('Precision with 0:', precision_score(target_test, pd.Series(0, index=range(target_test.shape[0]))))\n"
   ]
  },
  {
   "cell_type": "markdown",
   "metadata": {},
   "source": [
    "Изучим кривую AUC-ROC"
   ]
  },
  {
   "cell_type": "code",
   "execution_count": 47,
   "metadata": {},
   "outputs": [
    {
     "data": {
      "image/png": "[encoded data removed]",
      "text/plain": [
       "<Figure size 432x288 with 1 Axes>"
      ]
     },
     "metadata": {
      "needs_background": "light"
     },
     "output_type": "display_data"
    }
   ],
   "source": [
    "fpr, tpr, thresholds = roc_curve(target_test, probabilities_one_test) \n",
    "plt.figure()\n",
    "plt.plot(fpr, tpr)\n",
    "plt.xlim([0.0, 1.0])\n",
    "plt.ylim([0.0, 1.0])\n",
    "plt.xlabel('False Positive Rate')\n",
    "plt.ylabel('True Positive Rate')\n",
    "plt.title('ROC-кривая')\n",
    "plt.show() "
   ]
  },
  {
   "cell_type": "markdown",
   "metadata": {},
   "source": [
    "И посчитаем AUC-ROC:"
   ]
  },
  {
   "cell_type": "code",
   "execution_count": 48,
   "metadata": {},
   "outputs": [
    {
     "name": "stdout",
     "output_type": "stream",
     "text": [
      "AUC-ROC: 0.861333407776868\n"
     ]
    }
   ],
   "source": [
    "auc_roc = roc_auc_score(target_valid, probabilities_one_valid)\n",
    "print(\"AUC-ROC:\", auc_roc)"
   ]
  },
  {
   "cell_type": "markdown",
   "metadata": {},
   "source": [
    "Вывод: лучшие результаты работы по данному датасету у `RandomForestClassifier(random_state=12345, n_estimators=60, max_depth=16)` с `threshold=0.4`."
   ]
  },
  {
   "cell_type": "code",
   "execution_count": 57,
   "metadata": {},
   "outputs": [
    {
     "data": {
      "image/png": "[encoded data removed]",
      "text/plain": [
       "<Figure size 432x288 with 1 Axes>"
      ]
     },
     "metadata": {
      "needs_background": "light"
     },
     "output_type": "display_data"
    }
   ],
   "source": [
    "importances = model.feature_importances_\n",
    "forest_importances = pd.Series(importances, index=features.columns)\n",
    "std = np.std([tree.feature_importances_ for tree in model.estimators_], axis=0)\n",
    "fig, ax = plt.subplots()\n",
    "forest_importances.plot.bar(yerr=std, ax=ax)\n",
    "ax.set_title(\"Feature importances using MDI\")\n",
    "ax.set_ylabel(\"Mean decrease in impurity\")\n",
    "fig.tight_layout()"
   ]
  },
  {
   "cell_type": "markdown",
   "metadata": {},
   "source": [
    "Как видно, наибольшую важность играет возраст. Дальше равноценны кредитный рейтинг, баланс на счету, кол-во подключенных продуктов и зарплата."
   ]
  },
  {
   "cell_type": "markdown",
   "metadata": {},
   "source": [
    "## Чек-лист готовности проекта"
   ]
  },
  {
   "cell_type": "markdown",
   "metadata": {},
   "source": [
    "Поставьте 'x' в выполненных пунктах. Далее нажмите Shift+Enter."
   ]
  },
  {
   "cell_type": "markdown",
   "metadata": {},
   "source": [
    "- [x]  Jupyter Notebook открыт\n",
    "- [x]  Весь код выполняется без ошибок\n",
    "- [x]  Ячейки с кодом расположены в порядке исполнения\n",
    "- [x]  Выполнен шаг 1: данные подготовлены\n",
    "- [x]  Выполнен шаг 2: задача исследована\n",
    "    - [x]  Исследован баланс классов\n",
    "    - [x]  Изучены модели без учёта дисбаланса\n",
    "    - [x]  Написаны выводы по результатам исследования\n",
    "- [x]  Выполнен шаг 3: учтён дисбаланс\n",
    "    - [x]  Применено несколько способов борьбы с дисбалансом\n",
    "    - [x]  Написаны выводы по результатам исследования\n",
    "- [x]  Выполнен шаг 4: проведено тестирование\n",
    "- [x]  Удалось достичь *F1*-меры не менее 0.59\n",
    "- [x]  Исследована метрика *AUC-ROC*"
   ]
  }
 ],
 "metadata": {
  "ExecuteTimeLog": [
   {
    "duration": 449,
    "start_time": "2023-07-08T10:37:11.394Z"
   },
   {
    "duration": 136,
    "start_time": "2023-07-08T10:37:14.171Z"
   },
   {
    "duration": 67,
    "start_time": "2023-07-08T10:37:50.511Z"
   },
   {
    "duration": 74,
    "start_time": "2023-07-08T10:38:18.195Z"
   },
   {
    "duration": 416,
    "start_time": "2023-07-10T09:35:45.516Z"
   },
   {
    "duration": 394,
    "start_time": "2023-07-10T09:35:46.655Z"
   },
   {
    "duration": 37,
    "start_time": "2023-07-10T09:35:49.486Z"
   },
   {
    "duration": 69,
    "start_time": "2023-07-10T09:37:20.918Z"
   },
   {
    "duration": 6,
    "start_time": "2023-07-10T09:37:24.694Z"
   },
   {
    "duration": 4,
    "start_time": "2023-07-10T09:37:27.998Z"
   },
   {
    "duration": 24,
    "start_time": "2023-07-10T09:38:30.507Z"
   },
   {
    "duration": 38,
    "start_time": "2023-07-10T09:38:54.302Z"
   },
   {
    "duration": 15,
    "start_time": "2023-07-10T09:39:20.540Z"
   },
   {
    "duration": 11,
    "start_time": "2023-07-10T09:40:08.787Z"
   },
   {
    "duration": 27,
    "start_time": "2023-07-10T09:40:43.198Z"
   },
   {
    "duration": 12,
    "start_time": "2023-07-10T09:41:08.057Z"
   },
   {
    "duration": 14,
    "start_time": "2023-07-10T09:42:19.647Z"
   },
   {
    "duration": 4,
    "start_time": "2023-07-10T09:42:23.592Z"
   },
   {
    "duration": 5,
    "start_time": "2023-07-10T09:42:26.197Z"
   },
   {
    "duration": 16,
    "start_time": "2023-07-10T09:44:56.285Z"
   },
   {
    "duration": 11,
    "start_time": "2023-07-10T09:46:17.055Z"
   },
   {
    "duration": 9,
    "start_time": "2023-07-10T09:46:21.958Z"
   },
   {
    "duration": 22,
    "start_time": "2023-07-10T09:47:45.208Z"
   },
   {
    "duration": 252,
    "start_time": "2023-07-10T09:49:19.592Z"
   },
   {
    "duration": 13,
    "start_time": "2023-07-10T09:50:26.342Z"
   },
   {
    "duration": 4,
    "start_time": "2023-07-10T09:51:11.053Z"
   },
   {
    "duration": 26,
    "start_time": "2023-07-10T09:51:12.842Z"
   },
   {
    "duration": 6,
    "start_time": "2023-07-10T09:51:49.919Z"
   },
   {
    "duration": 19,
    "start_time": "2023-07-10T09:52:51.301Z"
   },
   {
    "duration": 1229,
    "start_time": "2023-07-10T10:28:33.810Z"
   },
   {
    "duration": 65,
    "start_time": "2023-07-10T10:28:35.696Z"
   },
   {
    "duration": 5,
    "start_time": "2023-07-10T10:28:36.651Z"
   },
   {
    "duration": 14,
    "start_time": "2023-07-10T10:28:36.991Z"
   },
   {
    "duration": 13,
    "start_time": "2023-07-10T10:28:37.290Z"
   },
   {
    "duration": 14,
    "start_time": "2023-07-10T10:28:37.931Z"
   },
   {
    "duration": 5,
    "start_time": "2023-07-10T10:28:38.638Z"
   },
   {
    "duration": 15,
    "start_time": "2023-07-10T10:28:39.536Z"
   },
   {
    "duration": 5,
    "start_time": "2023-07-10T10:28:40.780Z"
   },
   {
    "duration": 7,
    "start_time": "2023-07-10T10:28:41.233Z"
   },
   {
    "duration": 19,
    "start_time": "2023-07-10T10:28:42.894Z"
   },
   {
    "duration": 107,
    "start_time": "2023-07-10T10:28:57.687Z"
   },
   {
    "duration": 11,
    "start_time": "2023-07-10T10:29:09.631Z"
   },
   {
    "duration": 47,
    "start_time": "2023-07-10T10:37:56.658Z"
   },
   {
    "duration": 1156,
    "start_time": "2023-07-10T10:38:14.425Z"
   },
   {
    "duration": 10,
    "start_time": "2023-07-10T10:38:36.098Z"
   },
   {
    "duration": 3,
    "start_time": "2023-07-10T10:38:59.327Z"
   },
   {
    "duration": 59,
    "start_time": "2023-07-10T10:38:59.564Z"
   },
   {
    "duration": 5,
    "start_time": "2023-07-10T10:38:59.998Z"
   },
   {
    "duration": 12,
    "start_time": "2023-07-10T10:39:00.368Z"
   },
   {
    "duration": 13,
    "start_time": "2023-07-10T10:39:00.674Z"
   },
   {
    "duration": 13,
    "start_time": "2023-07-10T10:39:00.995Z"
   },
   {
    "duration": 4,
    "start_time": "2023-07-10T10:39:01.302Z"
   },
   {
    "duration": 21,
    "start_time": "2023-07-10T10:39:01.610Z"
   },
   {
    "duration": 5,
    "start_time": "2023-07-10T10:39:01.931Z"
   },
   {
    "duration": 7,
    "start_time": "2023-07-10T10:39:02.259Z"
   },
   {
    "duration": 27,
    "start_time": "2023-07-10T10:39:04.209Z"
   },
   {
    "duration": 8,
    "start_time": "2023-07-10T10:39:06.407Z"
   },
   {
    "duration": 1136,
    "start_time": "2023-07-10T10:39:10.951Z"
   },
   {
    "duration": 14,
    "start_time": "2023-07-10T10:39:38.450Z"
   },
   {
    "duration": 19,
    "start_time": "2023-07-10T10:39:52.188Z"
   },
   {
    "duration": 8,
    "start_time": "2023-07-10T10:39:57.922Z"
   },
   {
    "duration": 1182,
    "start_time": "2023-07-10T10:39:58.968Z"
   },
   {
    "duration": 3,
    "start_time": "2023-07-10T10:40:14.266Z"
   },
   {
    "duration": 1107,
    "start_time": "2023-07-10T11:17:40.750Z"
   },
   {
    "duration": 18,
    "start_time": "2023-07-10T11:18:24.440Z"
   },
   {
    "duration": 27,
    "start_time": "2023-07-10T11:18:36.653Z"
   },
   {
    "duration": 5,
    "start_time": "2023-07-10T11:18:40.180Z"
   },
   {
    "duration": 5,
    "start_time": "2023-07-10T11:18:46.620Z"
   },
   {
    "duration": 1092,
    "start_time": "2023-07-10T11:18:52.891Z"
   },
   {
    "duration": 3,
    "start_time": "2023-07-10T11:19:12.049Z"
   },
   {
    "duration": 571,
    "start_time": "2023-07-10T11:19:16.791Z"
   },
   {
    "duration": 518,
    "start_time": "2023-07-10T11:19:19.922Z"
   },
   {
    "duration": 1121,
    "start_time": "2023-07-10T12:01:54.943Z"
   },
   {
    "duration": 70,
    "start_time": "2023-07-10T12:01:56.067Z"
   },
   {
    "duration": 5,
    "start_time": "2023-07-10T12:01:56.139Z"
   },
   {
    "duration": 22,
    "start_time": "2023-07-10T12:01:56.146Z"
   },
   {
    "duration": 21,
    "start_time": "2023-07-10T12:01:56.171Z"
   },
   {
    "duration": 21,
    "start_time": "2023-07-10T12:01:56.194Z"
   },
   {
    "duration": 8,
    "start_time": "2023-07-10T12:01:56.217Z"
   },
   {
    "duration": 9,
    "start_time": "2023-07-10T12:01:56.227Z"
   },
   {
    "duration": 14,
    "start_time": "2023-07-10T12:01:56.238Z"
   },
   {
    "duration": 16,
    "start_time": "2023-07-10T12:01:56.253Z"
   },
   {
    "duration": 36,
    "start_time": "2023-07-10T12:01:56.271Z"
   },
   {
    "duration": 9,
    "start_time": "2023-07-10T12:01:56.309Z"
   },
   {
    "duration": 10,
    "start_time": "2023-07-10T12:01:56.319Z"
   },
   {
    "duration": 553,
    "start_time": "2023-07-10T12:01:56.332Z"
   },
   {
    "duration": 542,
    "start_time": "2023-07-10T12:10:15.753Z"
   },
   {
    "duration": 75,
    "start_time": "2023-07-10T12:17:55.344Z"
   },
   {
    "duration": 7,
    "start_time": "2023-07-10T12:18:05.891Z"
   },
   {
    "duration": 7,
    "start_time": "2023-07-10T12:20:18.862Z"
   },
   {
    "duration": 3,
    "start_time": "2023-07-10T12:23:06.433Z"
   },
   {
    "duration": 7,
    "start_time": "2023-07-10T12:23:54.659Z"
   },
   {
    "duration": 73,
    "start_time": "2023-07-10T12:31:21.038Z"
   },
   {
    "duration": 3,
    "start_time": "2023-07-10T12:31:57.699Z"
   },
   {
    "duration": 7,
    "start_time": "2023-07-10T12:32:36.698Z"
   },
   {
    "duration": 4,
    "start_time": "2023-07-10T12:33:23.012Z"
   },
   {
    "duration": 550,
    "start_time": "2023-07-10T12:33:50.956Z"
   },
   {
    "duration": 116,
    "start_time": "2023-07-10T12:38:28.587Z"
   },
   {
    "duration": 5,
    "start_time": "2023-07-10T12:38:40.507Z"
   },
   {
    "duration": 220,
    "start_time": "2023-07-10T12:38:43.697Z"
   },
   {
    "duration": 1242,
    "start_time": "2023-07-10T14:05:50.131Z"
   },
   {
    "duration": 68,
    "start_time": "2023-07-10T14:05:51.375Z"
   },
   {
    "duration": 6,
    "start_time": "2023-07-10T14:05:51.445Z"
   },
   {
    "duration": 40,
    "start_time": "2023-07-10T14:05:51.453Z"
   },
   {
    "duration": 50,
    "start_time": "2023-07-10T14:05:51.496Z"
   },
   {
    "duration": 38,
    "start_time": "2023-07-10T14:05:51.548Z"
   },
   {
    "duration": 5,
    "start_time": "2023-07-10T14:05:51.587Z"
   },
   {
    "duration": 8,
    "start_time": "2023-07-10T14:05:51.594Z"
   },
   {
    "duration": 21,
    "start_time": "2023-07-10T14:05:51.604Z"
   },
   {
    "duration": 40,
    "start_time": "2023-07-10T14:05:51.627Z"
   },
   {
    "duration": 29,
    "start_time": "2023-07-10T14:05:51.669Z"
   },
   {
    "duration": 571,
    "start_time": "2023-07-10T14:05:51.700Z"
   },
   {
    "duration": 6,
    "start_time": "2023-07-10T14:05:52.272Z"
   },
   {
    "duration": 55,
    "start_time": "2023-07-10T14:05:52.281Z"
   },
   {
    "duration": 58,
    "start_time": "2023-07-10T14:05:52.337Z"
   },
   {
    "duration": 220,
    "start_time": "2023-07-10T14:05:52.397Z"
   },
   {
    "duration": 1190,
    "start_time": "2023-07-11T09:02:10.265Z"
   },
   {
    "duration": 96,
    "start_time": "2023-07-11T09:02:13.151Z"
   },
   {
    "duration": 5,
    "start_time": "2023-07-11T09:02:13.946Z"
   },
   {
    "duration": 13,
    "start_time": "2023-07-11T09:02:14.231Z"
   },
   {
    "duration": 12,
    "start_time": "2023-07-11T09:02:14.536Z"
   },
   {
    "duration": 14,
    "start_time": "2023-07-11T09:02:14.829Z"
   },
   {
    "duration": 5,
    "start_time": "2023-07-11T09:02:15.116Z"
   },
   {
    "duration": 5,
    "start_time": "2023-07-11T09:02:15.427Z"
   },
   {
    "duration": 6,
    "start_time": "2023-07-11T09:02:15.729Z"
   },
   {
    "duration": 20,
    "start_time": "2023-07-11T09:02:17.142Z"
   },
   {
    "duration": 8,
    "start_time": "2023-07-11T09:02:17.411Z"
   },
   {
    "duration": 527,
    "start_time": "2023-07-11T09:02:17.862Z"
   },
   {
    "duration": 6,
    "start_time": "2023-07-11T09:02:20.431Z"
   },
   {
    "duration": 7,
    "start_time": "2023-07-11T09:02:21.502Z"
   },
   {
    "duration": 7,
    "start_time": "2023-07-11T09:02:23.505Z"
   },
   {
    "duration": 100,
    "start_time": "2023-07-11T09:02:25.504Z"
   },
   {
    "duration": 4,
    "start_time": "2023-07-11T09:03:30.568Z"
   },
   {
    "duration": 984,
    "start_time": "2023-07-11T09:03:52.497Z"
   },
   {
    "duration": 967,
    "start_time": "2023-07-11T09:08:37.901Z"
   },
   {
    "duration": 4,
    "start_time": "2023-07-11T09:10:26.154Z"
   },
   {
    "duration": 1160,
    "start_time": "2023-07-11T09:11:02.958Z"
   },
   {
    "duration": 1244,
    "start_time": "2023-07-11T09:11:21.601Z"
   },
   {
    "duration": 221,
    "start_time": "2023-07-11T09:12:20.393Z"
   },
   {
    "duration": 1056,
    "start_time": "2023-07-11T09:12:48.882Z"
   },
   {
    "duration": 1530,
    "start_time": "2023-07-11T09:18:16.805Z"
   },
   {
    "duration": 92,
    "start_time": "2023-07-11T09:18:18.632Z"
   },
   {
    "duration": 6,
    "start_time": "2023-07-11T09:18:21.166Z"
   },
   {
    "duration": 16,
    "start_time": "2023-07-11T09:18:22.419Z"
   },
   {
    "duration": 20,
    "start_time": "2023-07-11T09:18:24.624Z"
   },
   {
    "duration": 25,
    "start_time": "2023-07-11T09:18:26.462Z"
   },
   {
    "duration": 8,
    "start_time": "2023-07-11T09:18:29.360Z"
   },
   {
    "duration": 7,
    "start_time": "2023-07-11T09:18:31.238Z"
   },
   {
    "duration": 12,
    "start_time": "2023-07-11T09:18:32.916Z"
   },
   {
    "duration": 32,
    "start_time": "2023-07-11T09:18:36.539Z"
   },
   {
    "duration": 27,
    "start_time": "2023-07-11T09:18:40.025Z"
   },
   {
    "duration": 653,
    "start_time": "2023-07-11T09:18:45.151Z"
   },
   {
    "duration": 7,
    "start_time": "2023-07-11T09:18:48.316Z"
   },
   {
    "duration": 7,
    "start_time": "2023-07-11T09:18:50.083Z"
   },
   {
    "duration": 8,
    "start_time": "2023-07-11T09:18:59.555Z"
   },
   {
    "duration": 240,
    "start_time": "2023-07-11T09:19:05.366Z"
   },
   {
    "duration": 865,
    "start_time": "2023-07-11T09:19:17.087Z"
   },
   {
    "duration": 956,
    "start_time": "2023-07-11T09:19:48.623Z"
   },
   {
    "duration": 8,
    "start_time": "2023-07-11T09:20:39.733Z"
   },
   {
    "duration": 532,
    "start_time": "2023-07-11T09:20:41.106Z"
   },
   {
    "duration": 6,
    "start_time": "2023-07-11T09:20:42.020Z"
   },
   {
    "duration": 6,
    "start_time": "2023-07-11T09:20:42.330Z"
   },
   {
    "duration": 7,
    "start_time": "2023-07-11T09:20:42.945Z"
   },
   {
    "duration": 207,
    "start_time": "2023-07-11T09:20:43.795Z"
   },
   {
    "duration": 1009,
    "start_time": "2023-07-11T09:20:45.569Z"
   },
   {
    "duration": 1074,
    "start_time": "2023-07-11T09:20:49.455Z"
   },
   {
    "duration": 994,
    "start_time": "2023-07-11T09:23:07.223Z"
   },
   {
    "duration": 1015,
    "start_time": "2023-07-11T09:23:52.664Z"
   },
   {
    "duration": 1063,
    "start_time": "2023-07-11T09:24:08.907Z"
   },
   {
    "duration": 1072,
    "start_time": "2023-07-11T09:24:37.017Z"
   },
   {
    "duration": 5,
    "start_time": "2023-07-11T09:27:47.600Z"
   },
   {
    "duration": 4,
    "start_time": "2023-07-11T09:28:22.125Z"
   },
   {
    "duration": 107,
    "start_time": "2023-07-11T09:28:30.148Z"
   },
   {
    "duration": 597,
    "start_time": "2023-07-11T09:28:41.399Z"
   },
   {
    "duration": 144,
    "start_time": "2023-07-11T09:28:45.453Z"
   },
   {
    "duration": 6,
    "start_time": "2023-07-11T09:29:34.206Z"
   },
   {
    "duration": 7,
    "start_time": "2023-07-11T09:30:12.691Z"
   },
   {
    "duration": 1593,
    "start_time": "2023-07-11T09:32:01.199Z"
   },
   {
    "duration": 58,
    "start_time": "2023-07-11T09:32:02.794Z"
   },
   {
    "duration": 6,
    "start_time": "2023-07-11T09:32:02.853Z"
   },
   {
    "duration": 44,
    "start_time": "2023-07-11T09:32:02.860Z"
   },
   {
    "duration": 22,
    "start_time": "2023-07-11T09:32:02.906Z"
   },
   {
    "duration": 22,
    "start_time": "2023-07-11T09:32:02.929Z"
   },
   {
    "duration": 8,
    "start_time": "2023-07-11T09:32:02.954Z"
   },
   {
    "duration": 23,
    "start_time": "2023-07-11T09:32:02.964Z"
   },
   {
    "duration": 18,
    "start_time": "2023-07-11T09:32:02.989Z"
   },
   {
    "duration": 39,
    "start_time": "2023-07-11T09:32:03.009Z"
   },
   {
    "duration": 12,
    "start_time": "2023-07-11T09:32:03.049Z"
   },
   {
    "duration": 555,
    "start_time": "2023-07-11T09:32:03.063Z"
   },
   {
    "duration": 5,
    "start_time": "2023-07-11T09:32:03.620Z"
   },
   {
    "duration": 68,
    "start_time": "2023-07-11T09:32:03.628Z"
   },
   {
    "duration": 43,
    "start_time": "2023-07-11T09:32:03.698Z"
   },
   {
    "duration": 69,
    "start_time": "2023-07-11T09:32:03.742Z"
   },
   {
    "duration": 1189,
    "start_time": "2023-07-11T09:32:03.813Z"
   },
   {
    "duration": 1025,
    "start_time": "2023-07-11T09:32:05.004Z"
   },
   {
    "duration": 1015,
    "start_time": "2023-07-11T09:32:06.031Z"
   },
   {
    "duration": 146,
    "start_time": "2023-07-11T09:32:07.048Z"
   },
   {
    "duration": 8,
    "start_time": "2023-07-11T09:32:07.198Z"
   },
   {
    "duration": 50,
    "start_time": "2023-07-12T09:01:39.501Z"
   },
   {
    "duration": 1825,
    "start_time": "2023-07-12T09:01:43.086Z"
   },
   {
    "duration": 96,
    "start_time": "2023-07-12T09:01:47.352Z"
   },
   {
    "duration": 7,
    "start_time": "2023-07-12T09:01:49.687Z"
   },
   {
    "duration": 14,
    "start_time": "2023-07-12T09:01:51.303Z"
   },
   {
    "duration": 13,
    "start_time": "2023-07-12T09:01:53.344Z"
   },
   {
    "duration": 75,
    "start_time": "2023-07-12T09:02:32.869Z"
   },
   {
    "duration": 75,
    "start_time": "2023-07-12T09:02:36.390Z"
   },
   {
    "duration": 72,
    "start_time": "2023-07-12T09:02:49.658Z"
   },
   {
    "duration": 11,
    "start_time": "2023-07-12T09:02:55.030Z"
   },
   {
    "duration": 10,
    "start_time": "2023-07-12T09:03:05.689Z"
   },
   {
    "duration": 3,
    "start_time": "2023-07-12T09:03:10.086Z"
   },
   {
    "duration": 12,
    "start_time": "2023-07-12T09:12:54.782Z"
   },
   {
    "duration": 3,
    "start_time": "2023-07-12T09:13:15.078Z"
   },
   {
    "duration": 58,
    "start_time": "2023-07-12T09:13:15.083Z"
   },
   {
    "duration": 5,
    "start_time": "2023-07-12T09:13:15.143Z"
   },
   {
    "duration": 23,
    "start_time": "2023-07-12T09:13:15.149Z"
   },
   {
    "duration": 47,
    "start_time": "2023-07-12T09:13:15.175Z"
   },
   {
    "duration": 26,
    "start_time": "2023-07-12T09:13:15.223Z"
   },
   {
    "duration": 28,
    "start_time": "2023-07-12T09:13:15.251Z"
   },
   {
    "duration": 0,
    "start_time": "2023-07-12T09:13:15.280Z"
   },
   {
    "duration": 0,
    "start_time": "2023-07-12T09:13:15.282Z"
   },
   {
    "duration": 0,
    "start_time": "2023-07-12T09:13:15.283Z"
   },
   {
    "duration": 0,
    "start_time": "2023-07-12T09:13:15.284Z"
   },
   {
    "duration": 5,
    "start_time": "2023-07-12T09:13:32.940Z"
   },
   {
    "duration": 6,
    "start_time": "2023-07-12T09:13:33.917Z"
   },
   {
    "duration": 7,
    "start_time": "2023-07-12T09:13:35.473Z"
   },
   {
    "duration": 21,
    "start_time": "2023-07-12T09:13:36.346Z"
   },
   {
    "duration": 10,
    "start_time": "2023-07-12T09:13:38.551Z"
   },
   {
    "duration": 549,
    "start_time": "2023-07-12T09:14:05.838Z"
   },
   {
    "duration": 7,
    "start_time": "2023-07-12T09:14:20.488Z"
   },
   {
    "duration": 6,
    "start_time": "2023-07-12T09:14:23.585Z"
   },
   {
    "duration": 3,
    "start_time": "2023-07-12T09:14:44.657Z"
   },
   {
    "duration": 7,
    "start_time": "2023-07-12T09:14:54.303Z"
   },
   {
    "duration": 36,
    "start_time": "2023-07-12T09:16:25.453Z"
   },
   {
    "duration": 6,
    "start_time": "2023-07-12T09:16:58.754Z"
   },
   {
    "duration": 135,
    "start_time": "2023-07-12T09:17:00.687Z"
   },
   {
    "duration": 856,
    "start_time": "2023-07-12T09:17:19.139Z"
   },
   {
    "duration": 873,
    "start_time": "2023-07-12T09:17:41.230Z"
   },
   {
    "duration": 927,
    "start_time": "2023-07-12T09:18:06.695Z"
   },
   {
    "duration": 897,
    "start_time": "2023-07-12T09:18:14.973Z"
   },
   {
    "duration": 863,
    "start_time": "2023-07-12T09:18:20.925Z"
   },
   {
    "duration": 837,
    "start_time": "2023-07-12T09:19:05.430Z"
   },
   {
    "duration": 981,
    "start_time": "2023-07-12T09:20:53.180Z"
   },
   {
    "duration": 981,
    "start_time": "2023-07-12T09:21:05.536Z"
   },
   {
    "duration": 990,
    "start_time": "2023-07-12T09:21:14.348Z"
   },
   {
    "duration": 801,
    "start_time": "2023-07-12T09:21:45.164Z"
   },
   {
    "duration": 30,
    "start_time": "2023-07-12T09:21:48.197Z"
   },
   {
    "duration": 788,
    "start_time": "2023-07-12T09:23:20.814Z"
   },
   {
    "duration": 124,
    "start_time": "2023-07-12T09:24:07.383Z"
   },
   {
    "duration": 116,
    "start_time": "2023-07-12T09:24:27.791Z"
   },
   {
    "duration": 6,
    "start_time": "2023-07-12T09:24:52.852Z"
   },
   {
    "duration": 10,
    "start_time": "2023-07-12T09:40:51.292Z"
   },
   {
    "duration": 15,
    "start_time": "2023-07-12T09:40:54.959Z"
   },
   {
    "duration": 17,
    "start_time": "2023-07-12T09:40:58.127Z"
   },
   {
    "duration": 25,
    "start_time": "2023-07-12T09:42:01.131Z"
   },
   {
    "duration": 18,
    "start_time": "2023-07-12T09:42:28.595Z"
   },
   {
    "duration": 17,
    "start_time": "2023-07-12T09:42:33.099Z"
   },
   {
    "duration": 116,
    "start_time": "2023-07-12T09:42:38.215Z"
   },
   {
    "duration": 20,
    "start_time": "2023-07-12T09:43:01.447Z"
   },
   {
    "duration": 322,
    "start_time": "2023-07-12T09:43:05.915Z"
   }
  ],
  "kernelspec": {
   "display_name": "Python 3 (ipykernel)",
   "language": "python",
   "name": "python3"
  },
  "language_info": {
   "codemirror_mode": {
    "name": "ipython",
    "version": 3
   },
   "file_extension": ".py",
   "mimetype": "text/x-python",
   "name": "python",
   "nbconvert_exporter": "python",
   "pygments_lexer": "ipython3",
   "version": "3.9.5"
  },
  "toc": {
   "base_numbering": 1,
   "nav_menu": {},
   "number_sections": true,
   "sideBar": true,
   "skip_h1_title": true,
   "title_cell": "Содержание",
   "title_sidebar": "Contents",
   "toc_cell": true,
   "toc_position": {},
   "toc_section_display": true,
   "toc_window_display": true
  }
 },
 "nbformat": 4,
 "nbformat_minor": 2
}
